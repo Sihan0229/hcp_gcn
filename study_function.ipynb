{
 "cells": [
  {
   "cell_type": "markdown",
   "metadata": {},
   "source": [
    "U-Net"
   ]
  },
  {
   "cell_type": "code",
   "execution_count": 1,
   "metadata": {},
   "outputs": [
    {
     "name": "stderr",
     "output_type": "stream",
     "text": [
      "/root/miniconda3/envs/dhcp/lib/python3.10/site-packages/tqdm/auto.py:21: TqdmWarning: IProgress not found. Please update jupyter and ipywidgets. See https://ipywidgets.readthedocs.io/en/stable/user_install.html\n",
      "  from .autonotebook import tqdm as notebook_tqdm\n"
     ]
    },
    {
     "data": {
      "image/png": "[encoded data removed]",
      "text/plain": [
       "<Figure size 1000x500 with 2 Axes>"
      ]
     },
     "metadata": {},
     "output_type": "display_data"
    }
   ],
   "source": [
    "import torch\n",
    "import torch.nn as nn\n",
    "import torch.nn.functional as F\n",
    "import matplotlib.pyplot as plt\n",
    "import numpy as np\n",
    "\n",
    "# 定义 UNet 结构\n",
    "class UNet(nn.Module):\n",
    "    def __init__(self, C_in=1, C_hid=[16, 32, 64, 128, 128], C_out=1, K=3):\n",
    "        super(UNet, self).__init__()\n",
    "        self.conv1 = nn.Conv3d(C_in, C_hid[0], K, stride=1, padding=K//2)\n",
    "        self.conv2 = nn.Conv3d(C_hid[0], C_hid[1], K, stride=2, padding=K//2)\n",
    "        self.conv3 = nn.Conv3d(C_hid[1], C_hid[2], K, stride=2, padding=K//2)\n",
    "        self.conv4 = nn.Conv3d(C_hid[2], C_hid[3], K, stride=2, padding=K//2)\n",
    "        self.conv5 = nn.Conv3d(C_hid[3], C_hid[4], K, stride=1, padding=K//2)\n",
    "        \n",
    "        self.deconv4 = nn.Conv3d(C_hid[4]+C_hid[3], C_hid[3], K, stride=1, padding=K//2)\n",
    "        self.deconv3 = nn.Conv3d(C_hid[3]+C_hid[2], C_hid[2], K, stride=1, padding=K//2)\n",
    "        self.deconv2 = nn.Conv3d(C_hid[2]+C_hid[1], C_hid[1], K, stride=1, padding=K//2)\n",
    "        self.deconv1 = nn.Conv3d(C_hid[1]+C_hid[0], C_hid[0], K, stride=1, padding=K//2)\n",
    "        self.deconv0 = nn.Conv3d(C_hid[0], C_out, K, stride=1, padding=K//2)\n",
    "        \n",
    "        self.up = nn.Upsample(scale_factor=2, mode='trilinear', align_corners=False)\n",
    "        \n",
    "    def forward(self, x):\n",
    "        x1 = F.leaky_relu(self.conv1(x), 0.2)\n",
    "        x2 = F.leaky_relu(self.conv2(x1), 0.2)\n",
    "        x3 = F.leaky_relu(self.conv3(x2), 0.2)\n",
    "        x4 = F.leaky_relu(self.conv4(x3), 0.2)\n",
    "        x  = F.leaky_relu(self.conv5(x4), 0.2)\n",
    "\n",
    "        x = torch.cat([x, x4], dim=1)\n",
    "        x = F.leaky_relu(self.deconv4(x), 0.2)\n",
    "        \n",
    "        x = self.up(x)\n",
    "        x = torch.cat([x, x3], dim=1)\n",
    "        x = F.leaky_relu(self.deconv3(x), 0.2)\n",
    "        \n",
    "        x = self.up(x)\n",
    "        x = torch.cat([x, x2], dim=1)\n",
    "        x = F.leaky_relu(self.deconv2(x), 0.2)\n",
    "        \n",
    "        x = self.up(x)\n",
    "        x = torch.cat([x, x1], dim=1)\n",
    "        x = F.leaky_relu(self.deconv1(x), 0.2)\n",
    "        \n",
    "        x = self.deconv0(x)\n",
    "        return x\n",
    "\n",
    "# 创建一个 3D 输入样例\n",
    "B, C, D, H, W = 1, 1, 32, 32, 32  # 批次1，通道1，尺寸 32x32x32\n",
    "input_data = torch.randn(B, C, D, H, W)  # 随机生成一个 3D 体数据\n",
    "\n",
    "# 初始化 UNet\n",
    "model = UNet(C_in=1, C_out=1)\n",
    "\n",
    "# 运行模型\n",
    "output_data = model(input_data)\n",
    "\n",
    "# 可视化：选择中间的一个切片进行展示\n",
    "slice_idx = D // 2  # 取中间的 2D 切片\n",
    "input_slice = input_data[0, 0, slice_idx, :, :].detach().numpy()\n",
    "output_slice = output_data[0, 0, slice_idx, :, :].detach().numpy()\n",
    "\n",
    "# 画图\n",
    "fig, ax = plt.subplots(1, 2, figsize=(10, 5))\n",
    "ax[0].imshow(input_slice, cmap='gray')\n",
    "ax[0].set_title('Input Slice')\n",
    "ax[0].axis('off')\n",
    "\n",
    "ax[1].imshow(output_slice, cmap='gray')\n",
    "ax[1].set_title('Output Slice')\n",
    "ax[1].axis('off')\n",
    "\n",
    "plt.show()\n"
   ]
  }
 ],
 "metadata": {
  "kernelspec": {
   "display_name": "dhcp",
   "language": "python",
   "name": "python3"
  },
  "language_info": {
   "codemirror_mode": {
    "name": "ipython",
    "version": 3
   },
   "file_extension": ".py",
   "mimetype": "text/x-python",
   "name": "python",
   "nbconvert_exporter": "python",
   "pygments_lexer": "ipython3",
   "version": "3.10.16"
  }
 },
 "nbformat": 4,
 "nbformat_minor": 2
}
